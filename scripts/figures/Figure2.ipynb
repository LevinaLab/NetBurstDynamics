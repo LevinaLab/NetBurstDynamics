{
 "cells": [
  {
   "cell_type": "code",
   "execution_count": 1,
   "id": "3af23f36-76b8-43e1-a84e-4a4bc6a1911d",
   "metadata": {},
   "outputs": [
    {
     "name": "stderr",
     "output_type": "stream",
     "text": [
      "/home/ovinogradov/miniconda3/envs/NetBurstDynamics/lib/python3.9/site-packages/pandas/core/computation/expressions.py:21: UserWarning: Pandas requires version '2.8.4' or newer of 'numexpr' (version '2.7.3' currently installed).\n",
      "  from pandas.core.computation.check import NUMEXPR_INSTALLED\n"
     ]
    },
    {
     "ename": "AssertionError",
     "evalue": "",
     "output_type": "error",
     "traceback": [
      "\u001b[0;31m---------------------------------------------------------------------------\u001b[0m",
      "\u001b[0;31mAssertionError\u001b[0m                            Traceback (most recent call last)",
      "\u001b[0;32m<ipython-input-1-29d9d044af33>\u001b[0m in \u001b[0;36m<module>\u001b[0;34m\u001b[0m\n\u001b[1;32m     21\u001b[0m \u001b[0;32mfrom\u001b[0m \u001b[0msrc\u001b[0m\u001b[0;34m.\u001b[0m\u001b[0mdynamics\u001b[0m \u001b[0;32mimport\u001b[0m \u001b[0mStochSim_o\u001b[0m\u001b[0;34m\u001b[0m\u001b[0;34m\u001b[0m\u001b[0m\n\u001b[1;32m     22\u001b[0m \u001b[0;32mfrom\u001b[0m \u001b[0msympy\u001b[0m\u001b[0;34m.\u001b[0m\u001b[0mplotting\u001b[0m \u001b[0;32mimport\u001b[0m \u001b[0mplot\u001b[0m \u001b[0;32mas\u001b[0m \u001b[0mspplot\u001b[0m\u001b[0;34m\u001b[0m\u001b[0;34m\u001b[0m\u001b[0m\n\u001b[0;32m---> 23\u001b[0;31m \u001b[0;32mfrom\u001b[0m \u001b[0msrc\u001b[0m\u001b[0;34m.\u001b[0m\u001b[0mhelpers\u001b[0m \u001b[0;32mimport\u001b[0m \u001b[0mgetNull\u001b[0m\u001b[0;34m\u001b[0m\u001b[0;34m\u001b[0m\u001b[0m\n\u001b[0m\u001b[1;32m     24\u001b[0m \u001b[0;32mfrom\u001b[0m \u001b[0msrc\u001b[0m\u001b[0;34m.\u001b[0m\u001b[0mhelpers\u001b[0m \u001b[0;32mimport\u001b[0m \u001b[0mexpand_params\u001b[0m\u001b[0;34m\u001b[0m\u001b[0;34m\u001b[0m\u001b[0m\n\u001b[1;32m     25\u001b[0m \u001b[0;32mfrom\u001b[0m \u001b[0msrc\u001b[0m\u001b[0;34m.\u001b[0m\u001b[0mhelpers\u001b[0m \u001b[0;32mimport\u001b[0m \u001b[0mspike_burst_det\u001b[0m\u001b[0;34m\u001b[0m\u001b[0;34m\u001b[0m\u001b[0m\n",
      "\u001b[0;32m~/Projects/NetBurstDynamics/src/helpers.py\u001b[0m in \u001b[0;36m<module>\u001b[0;34m\u001b[0m\n\u001b[1;32m     28\u001b[0m \u001b[0;31m# from sbi.utils import RestrictionEstimator\u001b[0m\u001b[0;34m\u001b[0m\u001b[0;34m\u001b[0m\u001b[0m\n\u001b[1;32m     29\u001b[0m \u001b[0;32mimport\u001b[0m \u001b[0mtorch\u001b[0m\u001b[0;34m\u001b[0m\u001b[0;34m\u001b[0m\u001b[0m\n\u001b[0;32m---> 30\u001b[0;31m \u001b[0;32mfrom\u001b[0m \u001b[0msbi\u001b[0m \u001b[0;32mimport\u001b[0m \u001b[0mutils\u001b[0m \u001b[0;32mas\u001b[0m \u001b[0mutils\u001b[0m\u001b[0;34m\u001b[0m\u001b[0;34m\u001b[0m\u001b[0m\n\u001b[0m\u001b[1;32m     31\u001b[0m \u001b[0;32mfrom\u001b[0m \u001b[0msbi\u001b[0m \u001b[0;32mimport\u001b[0m \u001b[0manalysis\u001b[0m \u001b[0;32mas\u001b[0m \u001b[0manalysis\u001b[0m\u001b[0;34m\u001b[0m\u001b[0;34m\u001b[0m\u001b[0m\n\u001b[1;32m     32\u001b[0m \u001b[0;31m# from sbi.inference.base import infer\u001b[0m\u001b[0;34m\u001b[0m\u001b[0;34m\u001b[0m\u001b[0m\n",
      "\u001b[0;32m~/miniconda3/envs/NetBurstDynamics/lib/python3.9/site-packages/sbi/utils/__init__.py\u001b[0m in \u001b[0;36m<module>\u001b[0;34m\u001b[0m\n\u001b[1;32m      2\u001b[0m \u001b[0;32mfrom\u001b[0m \u001b[0msbi\u001b[0m\u001b[0;34m.\u001b[0m\u001b[0mutils\u001b[0m\u001b[0;34m.\u001b[0m\u001b[0manalysis_utils\u001b[0m \u001b[0;32mimport\u001b[0m \u001b[0mget_1d_marginal_peaks_from_kde\u001b[0m\u001b[0;34m\u001b[0m\u001b[0;34m\u001b[0m\u001b[0m\n\u001b[1;32m      3\u001b[0m \u001b[0;32mfrom\u001b[0m \u001b[0msbi\u001b[0m\u001b[0;34m.\u001b[0m\u001b[0mutils\u001b[0m\u001b[0;34m.\u001b[0m\u001b[0mio\u001b[0m \u001b[0;32mimport\u001b[0m \u001b[0mget_data_root\u001b[0m\u001b[0;34m,\u001b[0m \u001b[0mget_log_root\u001b[0m\u001b[0;34m,\u001b[0m \u001b[0mget_project_root\u001b[0m\u001b[0;34m\u001b[0m\u001b[0;34m\u001b[0m\u001b[0m\n\u001b[0;32m----> 4\u001b[0;31m \u001b[0;32mfrom\u001b[0m \u001b[0msbi\u001b[0m\u001b[0;34m.\u001b[0m\u001b[0mutils\u001b[0m\u001b[0;34m.\u001b[0m\u001b[0mkde\u001b[0m \u001b[0;32mimport\u001b[0m \u001b[0mKDEWrapper\u001b[0m\u001b[0;34m,\u001b[0m \u001b[0mget_kde\u001b[0m\u001b[0;34m\u001b[0m\u001b[0;34m\u001b[0m\u001b[0m\n\u001b[0m\u001b[1;32m      5\u001b[0m \u001b[0;32mfrom\u001b[0m \u001b[0msbi\u001b[0m\u001b[0;34m.\u001b[0m\u001b[0mutils\u001b[0m\u001b[0;34m.\u001b[0m\u001b[0mpotentialutils\u001b[0m \u001b[0;32mimport\u001b[0m \u001b[0mpyro_potential_wrapper\u001b[0m\u001b[0;34m,\u001b[0m \u001b[0mtransformed_potential\u001b[0m\u001b[0;34m\u001b[0m\u001b[0;34m\u001b[0m\u001b[0m\n\u001b[1;32m      6\u001b[0m from sbi.utils.restriction_estimator import (\n",
      "\u001b[0;32m~/miniconda3/envs/NetBurstDynamics/lib/python3.9/site-packages/sbi/utils/kde.py\u001b[0m in \u001b[0;36m<module>\u001b[0;34m\u001b[0m\n\u001b[1;32m     11\u001b[0m \u001b[0;32mfrom\u001b[0m \u001b[0mtorch\u001b[0m\u001b[0;34m.\u001b[0m\u001b[0mdistributions\u001b[0m\u001b[0;34m.\u001b[0m\u001b[0mtransforms\u001b[0m \u001b[0;32mimport\u001b[0m \u001b[0mIndependentTransform\u001b[0m\u001b[0;34m,\u001b[0m \u001b[0midentity_transform\u001b[0m\u001b[0;34m\u001b[0m\u001b[0;34m\u001b[0m\u001b[0m\n\u001b[1;32m     12\u001b[0m \u001b[0;34m\u001b[0m\u001b[0m\n\u001b[0;32m---> 13\u001b[0;31m \u001b[0;32mfrom\u001b[0m \u001b[0msbi\u001b[0m\u001b[0;34m.\u001b[0m\u001b[0msbi_types\u001b[0m \u001b[0;32mimport\u001b[0m \u001b[0mtransform_types\u001b[0m\u001b[0;34m\u001b[0m\u001b[0;34m\u001b[0m\u001b[0m\n\u001b[0m\u001b[1;32m     14\u001b[0m \u001b[0;34m\u001b[0m\u001b[0m\n\u001b[1;32m     15\u001b[0m \u001b[0;34m\u001b[0m\u001b[0m\n",
      "\u001b[0;32m~/miniconda3/envs/NetBurstDynamics/lib/python3.9/site-packages/sbi/sbi_types.py\u001b[0m in \u001b[0;36m<module>\u001b[0;34m\u001b[0m\n\u001b[1;32m      6\u001b[0m \u001b[0;32mimport\u001b[0m \u001b[0mnumpy\u001b[0m \u001b[0;32mas\u001b[0m \u001b[0mnp\u001b[0m\u001b[0;34m\u001b[0m\u001b[0;34m\u001b[0m\u001b[0m\n\u001b[1;32m      7\u001b[0m \u001b[0;32mimport\u001b[0m \u001b[0mtorch\u001b[0m\u001b[0;34m\u001b[0m\u001b[0;34m\u001b[0m\u001b[0m\n\u001b[0;32m----> 8\u001b[0;31m \u001b[0;32mfrom\u001b[0m \u001b[0mpyro\u001b[0m\u001b[0;34m.\u001b[0m\u001b[0mdistributions\u001b[0m \u001b[0;32mimport\u001b[0m \u001b[0mTransformedDistribution\u001b[0m  \u001b[0;31m# type: ignore\u001b[0m\u001b[0;34m\u001b[0m\u001b[0;34m\u001b[0m\u001b[0m\n\u001b[0m\u001b[1;32m      9\u001b[0m \u001b[0;32mfrom\u001b[0m \u001b[0mtorch\u001b[0m \u001b[0;32mimport\u001b[0m \u001b[0mTensor\u001b[0m\u001b[0;34m\u001b[0m\u001b[0;34m\u001b[0m\u001b[0m\n\u001b[1;32m     10\u001b[0m \u001b[0;32mfrom\u001b[0m \u001b[0mtorch\u001b[0m\u001b[0;34m.\u001b[0m\u001b[0mdistributions\u001b[0m \u001b[0;32mimport\u001b[0m \u001b[0mDistribution\u001b[0m\u001b[0;34m\u001b[0m\u001b[0;34m\u001b[0m\u001b[0m\n",
      "\u001b[0;32m~/.local/lib/python3.9/site-packages/pyro/__init__.py\u001b[0m in \u001b[0;36m<module>\u001b[0;34m\u001b[0m\n\u001b[1;32m      2\u001b[0m \u001b[0;31m# SPDX-License-Identifier: Apache-2.0\u001b[0m\u001b[0;34m\u001b[0m\u001b[0;34m\u001b[0m\u001b[0m\n\u001b[1;32m      3\u001b[0m \u001b[0;34m\u001b[0m\u001b[0m\n\u001b[0;32m----> 4\u001b[0;31m \u001b[0;32mimport\u001b[0m \u001b[0mpyro\u001b[0m\u001b[0;34m.\u001b[0m\u001b[0mpoutine\u001b[0m \u001b[0;32mas\u001b[0m \u001b[0mpoutine\u001b[0m\u001b[0;34m\u001b[0m\u001b[0;34m\u001b[0m\u001b[0m\n\u001b[0m\u001b[1;32m      5\u001b[0m \u001b[0;32mfrom\u001b[0m \u001b[0mpyro\u001b[0m\u001b[0;34m.\u001b[0m\u001b[0mlogger\u001b[0m \u001b[0;32mimport\u001b[0m \u001b[0mlog\u001b[0m\u001b[0;34m\u001b[0m\u001b[0;34m\u001b[0m\u001b[0m\n\u001b[1;32m      6\u001b[0m \u001b[0;32mfrom\u001b[0m \u001b[0mpyro\u001b[0m\u001b[0;34m.\u001b[0m\u001b[0mpoutine\u001b[0m \u001b[0;32mimport\u001b[0m \u001b[0mcondition\u001b[0m\u001b[0;34m,\u001b[0m \u001b[0mdo\u001b[0m\u001b[0;34m,\u001b[0m \u001b[0mmarkov\u001b[0m\u001b[0;34m\u001b[0m\u001b[0;34m\u001b[0m\u001b[0m\n",
      "\u001b[0;32m~/.local/lib/python3.9/site-packages/pyro/poutine/__init__.py\u001b[0m in \u001b[0;36m<module>\u001b[0;34m\u001b[0m\n\u001b[1;32m      2\u001b[0m \u001b[0;31m# SPDX-License-Identifier: Apache-2.0\u001b[0m\u001b[0;34m\u001b[0m\u001b[0;34m\u001b[0m\u001b[0m\n\u001b[1;32m      3\u001b[0m \u001b[0;34m\u001b[0m\u001b[0m\n\u001b[0;32m----> 4\u001b[0;31m from .handlers import (\n\u001b[0m\u001b[1;32m      5\u001b[0m     \u001b[0mblock\u001b[0m\u001b[0;34m,\u001b[0m\u001b[0;34m\u001b[0m\u001b[0;34m\u001b[0m\u001b[0m\n\u001b[1;32m      6\u001b[0m     \u001b[0mbroadcast\u001b[0m\u001b[0;34m,\u001b[0m\u001b[0;34m\u001b[0m\u001b[0;34m\u001b[0m\u001b[0m\n",
      "\u001b[0;32m~/.local/lib/python3.9/site-packages/pyro/poutine/handlers.py\u001b[0m in \u001b[0;36m<module>\u001b[0;34m\u001b[0m\n\u001b[1;32m     58\u001b[0m \u001b[0;32mfrom\u001b[0m \u001b[0;34m.\u001b[0m\u001b[0mblock_messenger\u001b[0m \u001b[0;32mimport\u001b[0m \u001b[0mBlockMessenger\u001b[0m\u001b[0;34m\u001b[0m\u001b[0;34m\u001b[0m\u001b[0m\n\u001b[1;32m     59\u001b[0m \u001b[0;32mfrom\u001b[0m \u001b[0;34m.\u001b[0m\u001b[0mbroadcast_messenger\u001b[0m \u001b[0;32mimport\u001b[0m \u001b[0mBroadcastMessenger\u001b[0m\u001b[0;34m\u001b[0m\u001b[0;34m\u001b[0m\u001b[0m\n\u001b[0;32m---> 60\u001b[0;31m \u001b[0;32mfrom\u001b[0m \u001b[0;34m.\u001b[0m\u001b[0mcollapse_messenger\u001b[0m \u001b[0;32mimport\u001b[0m \u001b[0mCollapseMessenger\u001b[0m\u001b[0;34m\u001b[0m\u001b[0;34m\u001b[0m\u001b[0m\n\u001b[0m\u001b[1;32m     61\u001b[0m \u001b[0;32mfrom\u001b[0m \u001b[0;34m.\u001b[0m\u001b[0mcondition_messenger\u001b[0m \u001b[0;32mimport\u001b[0m \u001b[0mConditionMessenger\u001b[0m\u001b[0;34m\u001b[0m\u001b[0;34m\u001b[0m\u001b[0m\n\u001b[1;32m     62\u001b[0m \u001b[0;32mfrom\u001b[0m \u001b[0;34m.\u001b[0m\u001b[0mdo_messenger\u001b[0m \u001b[0;32mimport\u001b[0m \u001b[0mDoMessenger\u001b[0m\u001b[0;34m\u001b[0m\u001b[0;34m\u001b[0m\u001b[0m\n",
      "\u001b[0;32m~/.local/lib/python3.9/site-packages/pyro/poutine/collapse_messenger.py\u001b[0m in \u001b[0;36m<module>\u001b[0;34m\u001b[0m\n\u001b[1;32m      5\u001b[0m \u001b[0;34m\u001b[0m\u001b[0m\n\u001b[1;32m      6\u001b[0m \u001b[0;32mimport\u001b[0m \u001b[0mpyro\u001b[0m\u001b[0;34m\u001b[0m\u001b[0;34m\u001b[0m\u001b[0m\n\u001b[0;32m----> 7\u001b[0;31m \u001b[0;32mfrom\u001b[0m \u001b[0mpyro\u001b[0m\u001b[0;34m.\u001b[0m\u001b[0mdistributions\u001b[0m\u001b[0;34m.\u001b[0m\u001b[0mdistribution\u001b[0m \u001b[0;32mimport\u001b[0m \u001b[0mCOERCIONS\u001b[0m\u001b[0;34m\u001b[0m\u001b[0;34m\u001b[0m\u001b[0m\n\u001b[0m\u001b[1;32m      8\u001b[0m \u001b[0;32mfrom\u001b[0m \u001b[0mpyro\u001b[0m\u001b[0;34m.\u001b[0m\u001b[0mpoutine\u001b[0m\u001b[0;34m.\u001b[0m\u001b[0mutil\u001b[0m \u001b[0;32mimport\u001b[0m \u001b[0msite_is_subsample\u001b[0m\u001b[0;34m\u001b[0m\u001b[0;34m\u001b[0m\u001b[0m\n\u001b[1;32m      9\u001b[0m \u001b[0;34m\u001b[0m\u001b[0m\n",
      "\u001b[0;32m~/.local/lib/python3.9/site-packages/pyro/distributions/__init__.py\u001b[0m in \u001b[0;36m<module>\u001b[0;34m\u001b[0m\n\u001b[1;32m      2\u001b[0m \u001b[0;31m# SPDX-License-Identifier: Apache-2.0\u001b[0m\u001b[0;34m\u001b[0m\u001b[0;34m\u001b[0m\u001b[0m\n\u001b[1;32m      3\u001b[0m \u001b[0;34m\u001b[0m\u001b[0m\n\u001b[0;32m----> 4\u001b[0;31m \u001b[0;32mimport\u001b[0m \u001b[0mpyro\u001b[0m\u001b[0;34m.\u001b[0m\u001b[0mdistributions\u001b[0m\u001b[0;34m.\u001b[0m\u001b[0mtorch_patch\u001b[0m  \u001b[0;31m# noqa F403\u001b[0m\u001b[0;34m\u001b[0m\u001b[0;34m\u001b[0m\u001b[0m\n\u001b[0m\u001b[1;32m      5\u001b[0m \u001b[0;32mfrom\u001b[0m \u001b[0mpyro\u001b[0m\u001b[0;34m.\u001b[0m\u001b[0mdistributions\u001b[0m\u001b[0;34m.\u001b[0m\u001b[0mtorch\u001b[0m \u001b[0;32mimport\u001b[0m \u001b[0;34m*\u001b[0m  \u001b[0;31m# noqa F403\u001b[0m\u001b[0;34m\u001b[0m\u001b[0;34m\u001b[0m\u001b[0m\n\u001b[1;32m      6\u001b[0m \u001b[0;34m\u001b[0m\u001b[0m\n",
      "\u001b[0;32m~/.local/lib/python3.9/site-packages/pyro/distributions/torch_patch.py\u001b[0m in \u001b[0;36m<module>\u001b[0;34m\u001b[0m\n\u001b[1;32m      8\u001b[0m \u001b[0;32mimport\u001b[0m \u001b[0mtorch\u001b[0m\u001b[0;34m\u001b[0m\u001b[0;34m\u001b[0m\u001b[0m\n\u001b[1;32m      9\u001b[0m \u001b[0;34m\u001b[0m\u001b[0m\n\u001b[0;32m---> 10\u001b[0;31m \u001b[0;32massert\u001b[0m \u001b[0mtorch\u001b[0m\u001b[0;34m.\u001b[0m\u001b[0m__version__\u001b[0m\u001b[0;34m.\u001b[0m\u001b[0mstartswith\u001b[0m\u001b[0;34m(\u001b[0m\u001b[0;34m\"1.\"\u001b[0m\u001b[0;34m)\u001b[0m\u001b[0;34m\u001b[0m\u001b[0;34m\u001b[0m\u001b[0m\n\u001b[0m\u001b[1;32m     11\u001b[0m \u001b[0;34m\u001b[0m\u001b[0m\n\u001b[1;32m     12\u001b[0m \u001b[0;34m\u001b[0m\u001b[0m\n",
      "\u001b[0;31mAssertionError\u001b[0m: "
     ]
    }
   ],
   "source": [
    "##  Plots for the figure 2\n",
    "# author:   Oleg Vinogradov \n",
    "# date:     15-02-2024\n",
    "\n",
    "# Main points\n",
    "# Check the invariances from the posterior, get points from 3 states\n",
    "# generate spikes\n",
    "# Notes: WIS-data-processing/WIS-data-processing.ipynb for data preprocessing\n",
    "# and summary extraction\n",
    "\n",
    "#\n",
    "import sys\n",
    "sys.path.remove('/home/ovinogradov/Projects/ReducedBursting')\n",
    "# sys.path.remove('/home/ovinogradov/.local/lib/python3.9/site-packages')\n",
    "import matplotlib.pyplot as plt\n",
    "import pandas as pd\n",
    "from scipy.stats import linregress\n",
    "import seaborn as sns\n",
    "import sympy as sp\n",
    "\n",
    "# model import \n",
    "from src.dynamics import StochSim_o\n",
    "from sympy.plotting import plot as spplot\n",
    "from src.helpers import getNull\n",
    "from src.helpers import expand_params\n",
    "from src.helpers import spike_burst_det\n",
    "\n",
    "na =np.array\n",
    "\n",
    "import numpy as np\n",
    "import numpy as np\n",
    "from scipy.io import loadmat as loadmat\n",
    "\n",
    "# sbi import \n",
    "import torch\n",
    "from sbi import utils as utils\n",
    "from sbi import analysis as analysis\n",
    "# Plotting \n",
    "plt.style.use('default')  \n",
    "from src.vis.bifurcations import plot_bifurcations\n",
    "from src.vis import styling_func\n",
    "from src.vis.styling_func import to_inches"
   ]
  },
  {
   "cell_type": "code",
   "execution_count": 3,
   "id": "39c9b051",
   "metadata": {},
   "outputs": [],
   "source": [
    "import os\n",
    "# Remove unwanted path from PATH\n",
    "unwanted = \"/home/ovinogradov/Projects/ReducedBursting\"\n",
    "os.environ['PATH'] = ':'.join([p for p in os.environ['PATH'].split(':') if p != unwanted])"
   ]
  },
  {
   "cell_type": "code",
   "execution_count": 6,
   "id": "b79eca87",
   "metadata": {},
   "outputs": [
    {
     "data": {
      "text/plain": [
       "'/home/ovinogradov/miniconda3/envs/NetBurstDynamics/bin:/home/ovinogradov/.vscode-server/cli/servers/Stable-4849ca9bdf9666755eb463db297b69e5385090e3/server/bin/remote-cli:/home/ovinogradov/miniconda3/envs/NetBurstDynamics/bin:/home/ovinogradov/miniconda3/condabin:/home/ovinogradov/.local/bin:/home/ovinogradov/.local/bin:/home/ovinogradov/.local/bin:/home/ovinogradov/.local/bin:/home/ovinogradov/.local/bin:/home/ovinogradov/.local/bin:/home/ovinogradov/.local/bin:/home/ovinogradov/.local/bin:/home/ovinogradov/.local/bin:/usr/local/sbin:/usr/local/bin:/usr/bin:/usr/lib/jvm/default/bin:/usr/bin/site_perl:/usr/bin/vendor_perl:/usr/bin/core_perl:/var/lib/snapd/snap/bin:/usr/local/texlive/2024/bin/x86_64-linux'"
      ]
     },
     "execution_count": 6,
     "metadata": {},
     "output_type": "execute_result"
    }
   ],
   "source": [
    "os.environ['PATH']"
   ]
  },
  {
   "cell_type": "code",
   "execution_count": 2,
   "id": "94ef7653",
   "metadata": {},
   "outputs": [
    {
     "name": "stdout",
     "output_type": "stream",
     "text": [
      "/home/ovinogradov/miniconda3/envs/NetBurstDynamics/bin/python\n",
      "['/home/ovinogradov/Projects/NetBurstDynamics/scripts/figures', '', '/home/ovinogradov/miniconda3/envs/NetBurstDynamics/lib/python39.zip', '/home/ovinogradov/miniconda3/envs/NetBurstDynamics/lib/python3.9', '/home/ovinogradov/miniconda3/envs/NetBurstDynamics/lib/python3.9/lib-dynload', '/home/ovinogradov/Projects/ReducedBursting', '/home/ovinogradov/miniconda3/envs/NetBurstDynamics/lib/python3.9/site-packages', '/home/ovinogradov/Projects/NetBurstDynamics', '/home/ovinogradov/.local/lib/python3.9/site-packages/IPython/extensions', '/home/ovinogradov/miniconda3/envs/NetBurstDynamics/lib/python3.9/site-packages/setuptools/_vendor', '/home/ovinogradov/.ipython']\n"
     ]
    }
   ],
   "source": [
    "import sys\n",
    "print(sys.executable)\n",
    "print(sys.path)"
   ]
  },
  {
   "cell_type": "code",
   "execution_count": 6,
   "id": "1cf1072c",
   "metadata": {},
   "outputs": [
    {
     "data": {
      "text/plain": [
       "'/home/ovinogradov/Projects/ReducedBursting/src/__init__.py'"
      ]
     },
     "execution_count": 6,
     "metadata": {},
     "output_type": "execute_result"
    }
   ],
   "source": [
    "import src\n",
    "\n",
    "src.__file__"
   ]
  },
  {
   "cell_type": "markdown",
   "id": "21fdc011-46db-4c99-8211-eb88c53a630a",
   "metadata": {},
   "source": [
    "### Visualize preselected samples on a bifurcation diagram"
   ]
  },
  {
   "cell_type": "code",
   "execution_count": 614,
   "id": "968b4510-bd9f-4f78-9329-daea6f31d337",
   "metadata": {},
   "outputs": [
    {
     "data": {
      "text/plain": [
       "[<matplotlib.lines.Line2D at 0x7f758c78a5e0>]"
      ]
     },
     "execution_count": 614,
     "metadata": {},
     "output_type": "execute_result"
    },
    {
     "data": {
      "image/png": "[encoded data removed]",
      "text/plain": [
       "<Figure size 360x360 with 1 Axes>"
      ]
     },
     "metadata": {
      "needs_background": "light"
     },
     "output_type": "display_data"
    }
   ],
   "source": [
    "# Model paramters [b, theta, log tau_w, sigma]\n",
    "samples = na([[ 0.415,  3.7552755 ,  9.950668  ,  1.47 ],\n",
    "           [ 1.2901986 ,  1.8996212 , 10.953961  ,  1.47],\n",
    "           [ 3.89 , -3.5054274 , 12.080247  ,  1.4754231 ]])\n",
    "plt.figure(figsize=(5,5))\n",
    "plot_bifurcations(inverse=1,color='k')\n",
    "plt.plot(samples[:,0],-samples[:,1],'or')\n",
    "plt.xlim([0,5])\n",
    "plt.ylim([-10,5])\n",
    "plt.xlabel('b')\n",
    "plt.ylabel('$\\\\theta$')"
   ]
  },
  {
   "cell_type": "code",
   "execution_count": 598,
   "id": "fb101e1a-66b1-4969-8b22-d0b34f56d28c",
   "metadata": {},
   "outputs": [
    {
     "name": "stdout",
     "output_type": "stream",
     "text": [
      "42\n",
      "----Bursts-----\n",
      "10.89219512195122 0.5355040556415659 3.169166666666667\n",
      "43\n",
      "----Bursts-----\n",
      "10.824285714285715 0.5440396576890579 3.2973255813953486\n",
      "49\n",
      "----Bursts-----\n",
      "9.409479166666666 0.5281054386091754 2.85234693877551\n"
     ]
    }
   ],
   "source": [
    "# Generate activity\n",
    "\n",
    "burst_detection_params={'maxISIstart':10.,\n",
    "                    'maxISIb':10.,\n",
    "                    'minBdur':20.,\n",
    "                    'minIBI':20.,\n",
    "                    'minSburst':7.,\n",
    "                    'scale':10.\n",
    "                    }\n",
    "res = []\n",
    "\n",
    "for i,ind in enumerate([0,1,2]):\n",
    "    sampl = samples[i,:]#[sorted_ind[ind],:].numpy()\n",
    "    params = expand_params(sampl,T=800000,torch_=False,keys=['b','theta','tau_w','sigma'])\n",
    "    params['x0']=0\n",
    "    t_dyn,x_dyn,w_dyn = StochSim_o(params,torch=0)\n",
    "    res.append([t_dyn,x_dyn,w_dyn])\n",
    "    cut = int(len(t_dyn)/4)\n",
    "    dt= np.diff(t_dyn[cut::100])[0]    \n",
    "    bursts= na(spike_burst_det(x_dyn[cut::100],dt,burst_detection_params))\n",
    "    print(len(bursts))\n",
    "    if len(bursts)>2:\n",
    "        durs = np.diff(bursts)/1000\n",
    "        ibis =(bursts[1:,0]-bursts[:-1,1])/1000\n",
    "        mibi = np.mean(ibis)\n",
    "        mdur = np.mean(durs)\n",
    "        cv_ibis = np.std(ibis)/mibi\n",
    "        print('----Bursts-----')\n",
    "        print(mibi,cv_ibis,mdur)"
   ]
  },
  {
   "cell_type": "markdown",
   "id": "67f1cee1-9791-47f3-98a9-a230398085b6",
   "metadata": {},
   "source": [
    "# Generate Activity"
   ]
  },
  {
   "cell_type": "code",
   "execution_count": 610,
   "id": "3d0f4d59-3303-4c52-9465-cf7716b5dc24",
   "metadata": {},
   "outputs": [
    {
     "data": {
      "image/png": "[encoded data removed]",
      "text/plain": [
       "<Figure size 803.15x787.402 with 3 Axes>"
      ]
     },
     "metadata": {
      "needs_background": "light"
     },
     "output_type": "display_data"
    }
   ],
   "source": [
    "# plt.figure(figsize=(6.556/3,2.1),dpi=200)\n",
    "# plt.subplot(1,3,3)\n",
    "fig =plt.figure(figsize=(to_inches(10.2),to_inches(10.0)),dpi=200)\n",
    "limits= [[7,14],[0,1],[2,4]]\n",
    "labels= ['Inter-burst interval','CV of Inter-burst intervals','Burst duration']\n",
    "gridspec = fig.add_gridspec(nrows=6, ncols=12,hspace=10)\n",
    "axes = {}\n",
    "axes['1'] = fig.add_subplot(gridspec[0:2, 0:2])\n",
    "axes['2'] = fig.add_subplot(gridspec[2:4, 0:2])\n",
    "axes['3'] = fig.add_subplot(gridspec[4:6, 0:2])\n",
    "names = ['bis','exc','osc']\n",
    "for i,m in enumerate(res): \n",
    "    t_dyn,x_dyn,w_dyn = m\n",
    "    x_dyn = x_dyn[::2000]# binsize! 100ms\n",
    "    spikes = np.random.poisson(np.exp(.6*x_dyn[:]))\n",
    "    sc = sc\n",
    "    axes[str(i+1)].plot(t_dyn[::2000]/1000,spikes,\n",
    "                    color=styling_func.colours[names[i]],linewidth=0.5)\n",
    "    axes[str(i+1)].set_xlim([100,250])\n",
    "    # axes[str(i+1)].set_ylim([-10,1050])\n",
    "    axes[str(i+1)].set_yticks([])\n",
    "    sns.despine(ax=axes[str(i+1)])\n",
    "    # plt.yticks([])\n",
    "axes[str(i+1)].set_xlabel('t [s]')\n",
    "plt.savefig('../../results/figs/paper_figs/example_traces.pdf')"
   ]
  },
  {
   "cell_type": "markdown",
   "id": "f8fb5f22",
   "metadata": {},
   "source": [
    "## Visualize nullclines"
   ]
  },
  {
   "cell_type": "code",
   "execution_count": 589,
   "id": "994ae3a0-7899-4ef8-8775-a0d4600e1312",
   "metadata": {},
   "outputs": [
    {
     "data": {
      "image/png": "[encoded data removed]",
      "text/plain": [
       "<Figure size 803.15x393.701 with 3 Axes>"
      ]
     },
     "metadata": {},
     "output_type": "display_data"
    }
   ],
   "source": [
    "\n",
    "fig =plt.figure(figsize=(to_inches(10.2),to_inches(5.0)),dpi=200)\n",
    "limits= [[7,14],[0,1],[2,4]]\n",
    "labels= ['Inter-burst interval','CV of Inter-burst intervals','Burst duration']\n",
    "gridspec = fig.add_gridspec(nrows=6, ncols=12,hspace=10)\n",
    "axes = {}\n",
    "axes['1'] = fig.add_subplot(gridspec[0:2, 0:2])\n",
    "axes['2'] = fig.add_subplot(gridspec[2:4, 0:2])\n",
    "axes['3'] = fig.add_subplot(gridspec[4:6, 0:2])\n",
    "limits = [[-3.5,6.5],[-2.5,9],[-1,14]]\n",
    "for i in range(3):\n",
    "    # plt.subplot(3,1,i+1)\n",
    "    # res[i]\n",
    "    t_dyn,x_dyn,w_dyn = res[i]\n",
    "    params = expand_params(samples[i],keys=['b', 'theta', 'tau_w','sigma'])\n",
    "    # params = expand_params(samples[sorted_ind[sel[0]],:].numpy(),keys=['b', 'theta', 'tau_w','sigma'])\n",
    "\n",
    "    x,w,w1 = getNull(params)\n",
    "\n",
    "    xf = sp.lambdify(x,x)\n",
    "    wf = sp.lambdify('x',w)\n",
    "    w1f = sp.lambdify('x',w1)\n",
    "    # x = np.arange(0.00001,9,0.000001)\n",
    "    x = np.arange(0.00001,9,0.01)\n",
    "    axes[str(i+1)].plot(x,wf(x),linewidth=0.5,color= styling_func.colours[names[i]])\n",
    "    axes[str(i+1)].plot(x,w1f(x),linewidth=0.5,color= styling_func.colours[names[i]])\n",
    "    axes[str(i+1)].set_xticks([])\n",
    "    axes[str(i+1)].set_yticks([])\n",
    "    \n",
    "    # axes[str(i+1)].plot(x_dyn[1000000:1095000:1000],w_dyn[1000000:1095000:1000],'.',alpha=.34,\n",
    "    #                     color= styling_func.colours[names[i]],markersize=0.1)\n",
    "    sns.despine(ax= axes[str(i+1)])\n",
    "    axes[str(i+1)].set_ylim(limits[i])\n",
    "    axes[str(i+1)].set_xlim([-1,11])\n",
    "    # w1f = sp.lambdify(w1,'x')\n",
    "    \n",
    "\n",
    "plt.savefig('../../results/figs/paper_figs/null_clines.pdf')"
   ]
  },
  {
   "cell_type": "markdown",
   "id": "f5c43272",
   "metadata": {},
   "source": [
    "## Check the statistics of bursting\n"
   ]
  },
  {
   "cell_type": "code",
   "execution_count": 438,
   "id": "71eff9ee-a2f8-4439-b4f8-b2ee84ddab29",
   "metadata": {},
   "outputs": [
    {
     "data": {
      "application/vnd.jupyter.widget-view+json": {
       "model_id": "4939210ae3b443e1af9f31a2f4a032dc",
       "version_major": 2,
       "version_minor": 0
      },
      "text/plain": [
       "Running 600 simulations in 600 batches.:   0%|          | 0/600 [00:00<?, ?it/s]"
      ]
     },
     "metadata": {},
     "output_type": "display_data"
    },
    {
     "name": "stdout",
     "output_type": "stream",
     "text": [
      "CPU times: user 3.33 s, sys: 339 ms, total: 3.67 s\n",
      "Wall time: 4min 15s\n"
     ]
    }
   ],
   "source": [
    "# check the statistics of bursting for different random\n",
    "from src.helpers import simulator_summaryN as simulator\n",
    "# num_dim = 4\n",
    "# prior = utils.BoxUniform(low=torch.tensor([ .05,-1.,  np.log(200.), 0.1,])*torch.ones(num_dim),\n",
    "                        #  high=torch.tensor([ 20.0, 15,  np.log(200000.),2.0])*torch.ones(num_dim))\n",
    "\n",
    "def simulator2(params):\n",
    "    param_set = params[:4]\n",
    "    seed= int(params[4])\n",
    "    return simulator(param_set,param_keys=['b','theta','tau_w','sigma'],\n",
    "                                          burst_detection_params={'maxISIstart':10.,\n",
    "                                                'maxISIb':10.,\n",
    "                                                'minBdur':10.,\n",
    "                                                'minIBI':10.,\n",
    "                                                'minSburst':7.,#17.,\n",
    "                                                'scale':10.},\n",
    "                                                 seed=seed)\n",
    "def batch_simulatior(theta: torch.Tensor): \n",
    "    \"\"\"Return a batch of simulations by looping over a batch of parameters.\"\"\"\n",
    "    assert theta.ndim > 1, \"Theta must have a batch dimension.\"\n",
    "    xs = list(map(simulator2, theta))\n",
    "    return torch.cat(xs, dim=0).reshape(theta.shape[0], -1)\n",
    "\n",
    "\n",
    "parameters= []\n",
    "for i in range(3):\n",
    "    for j in range(200):\n",
    "        p =  samples[i,:]#samples[sorted_ind[sel[i]],:].numpy()\n",
    "        parameters.append(np.hstack([p,int(123456+j)]))\n",
    "\n",
    "%time xs = simulate_in_batches(batch_simulatior,torch.tensor(parameters),sim_batch_size=1, num_workers=20)\n",
    "xs_ = xs.numpy().copy()\n",
    "xs_r = np.reshape(xs_,(3,200,6))"
   ]
  },
  {
   "cell_type": "code",
   "execution_count": 511,
   "id": "969bd4c0-fc23-43d9-a687-a6086c31bcb7",
   "metadata": {},
   "outputs": [
    {
     "data": {
      "image/png": "[encoded data removed]",
      "text/plain": [
       "<Figure size 803.15x393.701 with 3 Axes>"
      ]
     },
     "metadata": {
      "needs_background": "light"
     },
     "output_type": "display_data"
    }
   ],
   "source": [
    "fig =plt.figure(figsize=(to_inches(10.2),to_inches(5.0)),dpi=200)\n",
    "limits= [[7,14],[0,1],[2,4]]\n",
    "labels= ['Inter-burst interval','CV of Inter-burst intervals','Burst duration']\n",
    "gridspec = fig.add_gridspec(nrows=6, ncols=12,hspace=10)\n",
    "axes = {}\n",
    "axes['1'] = fig.add_subplot(gridspec[0:2, 0:2])\n",
    "axes['2'] = fig.add_subplot(gridspec[2:4, 0:2])\n",
    "axes['3'] = fig.add_subplot(gridspec[4:6, 0:2])\n",
    "for i in range(3):\n",
    "    # plt.subplot(3,1,i+1)\n",
    "    # plt.plot(xs_[:,i],'o')\n",
    "    # plt.ylim(limits[i])\n",
    "    # plt.axhline(x_0[i])\n",
    "\n",
    "    sns.kdeplot(xs_r[0,:,i],color=styling_func.colours[names[0]],linewidth=2,ax=axes[str(i+1)])\n",
    "    sns.kdeplot(xs_r[1,:,i],color=styling_func.colours[names[1]],linewidth=2,ax=axes[str(i+1)])\n",
    "    sns.kdeplot(xs_r[2,:,i],color=styling_func.colours[names[2]],linewidth=2,ax=axes[str(i+1)])\n",
    "    axes[str(i+1)].set_xlim(limits[i])\n",
    "    axes[str(i+1)].set_ylabel(labels[i],fontsize=8)\n",
    "    sns.despine(ax=axes[str(i+1)])\n",
    "    axes[str(i+1)].set_yticks([])\n",
    "# plt.tight_layout()\n",
    "# plt.savefig('../../results/figs/paper_figs/Equal_dist.pdf')"
   ]
  }
 ],
 "metadata": {
  "kernelspec": {
   "display_name": "NetBurstDynamics",
   "language": "python",
   "name": "python3"
  },
  "language_info": {
   "codemirror_mode": {
    "name": "ipython",
    "version": 3
   },
   "file_extension": ".py",
   "mimetype": "text/x-python",
   "name": "python",
   "nbconvert_exporter": "python",
   "pygments_lexer": "ipython3",
   "version": "3.9.19"
  }
 },
 "nbformat": 4,
 "nbformat_minor": 5
}
